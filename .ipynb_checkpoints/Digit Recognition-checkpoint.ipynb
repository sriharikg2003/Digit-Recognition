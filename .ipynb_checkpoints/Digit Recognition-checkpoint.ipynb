{
 "cells": [
  {
   "cell_type": "code",
   "execution_count": 3,
   "id": "eb49237c",
   "metadata": {},
   "outputs": [],
   "source": [
    "# imports\n",
    "import numpy as np\n",
    "import matplotlib.pyplot as plt\n",
    "import tensorflow as tf\n",
    "import cv2\n",
    "%matplotlib inline"
   ]
  },
  {
   "cell_type": "code",
   "execution_count": 20,
   "id": "8f7fd77e",
   "metadata": {},
   "outputs": [],
   "source": [
    "mnist = tf.keras.datasets.mnist"
   ]
  },
  {
   "cell_type": "code",
   "execution_count": 21,
   "id": "7d1fe9fe",
   "metadata": {},
   "outputs": [],
   "source": [
    "(x_train,y_train),(x_test,y_test) = mnist.load_data()"
   ]
  },
  {
   "cell_type": "code",
   "execution_count": 22,
   "id": "1a2e3c95",
   "metadata": {
    "scrolled": true
   },
   "outputs": [
    {
     "data": {
      "text/plain": [
       "(28, 28)"
      ]
     },
     "execution_count": 22,
     "metadata": {},
     "output_type": "execute_result"
    }
   ],
   "source": [
    "x_train[0].shape"
   ]
  },
  {
   "cell_type": "code",
   "execution_count": 23,
   "id": "ce431739",
   "metadata": {},
   "outputs": [],
   "source": [
    "# normalize the data\n",
    "x_train = tf.keras.utils.normalize(x_train , axis=1)\n",
    "x_test = tf.keras.utils.normalize(x_test , axis=1)"
   ]
  },
  {
   "cell_type": "code",
   "execution_count": 42,
   "id": "4ab05881",
   "metadata": {},
   "outputs": [
    {
     "name": "stdout",
     "output_type": "stream",
     "text": [
      "Epoch 1/3\n",
      "1875/1875 [==============================] - 5s 2ms/step - loss: 0.2626 - accuracy: 0.9236\n",
      "Epoch 2/3\n",
      "1875/1875 [==============================] - 5s 3ms/step - loss: 0.1079 - accuracy: 0.9665\n",
      "Epoch 3/3\n",
      "1875/1875 [==============================] - 7s 4ms/step - loss: 0.0722 - accuracy: 0.9769\n",
      "INFO:tensorflow:Assets written to: handwritten.model\\assets\n"
     ]
    }
   ],
   "source": [
    "# Design Model\n",
    "model = tf.keras.models.Sequential()\n",
    "model.add(tf.keras.layers.Flatten(input_shape=(28,28)))\n",
    "model.add(tf.keras.layers.Dense(128,activation='relu'))\n",
    "model.add(tf.keras.layers.Dense(128,activation='relu'))\n",
    "model.add(tf.keras.layers.Dense(10,activation='softmax'))\n",
    "\n",
    "model.compile(optimizer='adam',loss='sparse_categorical_crossentropy',metrics=['accuracy'])\n",
    "\n",
    "model.fit(x_train,y_train,epochs = 3)\n",
    "\n",
    "# save the model\n",
    "model.save('handwritten.model')"
   ]
  },
  {
   "cell_type": "code",
   "execution_count": 25,
   "id": "8992be19",
   "metadata": {},
   "outputs": [],
   "source": [
    "# Use the saved model\n",
    "\n",
    "model = tf.keras.models.load_model('handwritten.model')"
   ]
  },
  {
   "cell_type": "code",
   "execution_count": 26,
   "id": "f7beb5c1",
   "metadata": {},
   "outputs": [
    {
     "name": "stdout",
     "output_type": "stream",
     "text": [
      "313/313 [==============================] - 1s 1ms/step - loss: 0.1148 - accuracy: 0.9737\n"
     ]
    }
   ],
   "source": [
    "# Loss and accaccuracy from the test data\n",
    "\n",
    "loss, accuracy = model.evaluate(x_test,y_test)"
   ]
  },
  {
   "cell_type": "code",
   "execution_count": 27,
   "id": "867a8b29",
   "metadata": {},
   "outputs": [
    {
     "name": "stdout",
     "output_type": "stream",
     "text": [
      "Loss : 0.11479053646326065 \n",
      "Accuracy : 0.9736999869346619\n"
     ]
    }
   ],
   "source": [
    "print(f\"Loss : {loss} \\nAccuracy : {accuracy}\")"
   ]
  },
  {
   "cell_type": "code",
   "execution_count": 43,
   "id": "752cd482",
   "metadata": {
    "scrolled": true
   },
   "outputs": [
    {
     "name": "stdout",
     "output_type": "stream",
     "text": [
      "0\n",
      "1/1 [==============================] - 0s 54ms/step\n",
      "Actual : 0   ::  Predicted : 9\n",
      "1\n",
      "1/1 [==============================] - 0s 21ms/step\n",
      "Actual : 1   ::  Predicted : 1\n",
      "2\n",
      "1/1 [==============================] - 0s 24ms/step\n",
      "Actual : 2   ::  Predicted : 2\n",
      "3\n",
      "1/1 [==============================] - 0s 22ms/step\n",
      "Actual : 3   ::  Predicted : 3\n",
      "4\n",
      "1/1 [==============================] - 0s 22ms/step\n",
      "Actual : 4   ::  Predicted : 8\n",
      "5\n",
      "1/1 [==============================] - 0s 23ms/step\n",
      "Actual : 5   ::  Predicted : 5\n",
      "6\n",
      "1/1 [==============================] - 0s 22ms/step\n",
      "Actual : 6   ::  Predicted : 2\n",
      "7\n",
      "1/1 [==============================] - 0s 24ms/step\n",
      "Actual : 7   ::  Predicted : 3\n",
      "8\n",
      "1/1 [==============================] - 0s 22ms/step\n",
      "Actual : 8   ::  Predicted : 8\n",
      "9\n",
      "1/1 [==============================] - 0s 22ms/step\n",
      "Actual : 9   ::  Predicted : 3\n"
     ]
    }
   ],
   "source": [
    "# Our image\n",
    "actual=[]\n",
    "predicted=[]\n",
    "for i in range(10):\n",
    "    print(i)\n",
    "    actual.append(i)\n",
    "    img = cv2.imread(f\"digits/{i}.png\")\n",
    "    img = img[:,:,0]\n",
    "    img = np.invert(np.array([img])) # we need black on white\n",
    "    prediction = model.predict(img)\n",
    "    print(f\"Actual : {i}   ::  Predicted : {np.argmax(prediction)}\")\n",
    "    predicted.append(np.argmax(prediction))\n"
   ]
  },
  {
   "cell_type": "code",
   "execution_count": 44,
   "id": "87c9090c",
   "metadata": {},
   "outputs": [
    {
     "data": {
      "text/plain": [
       "5"
      ]
     },
     "execution_count": 44,
     "metadata": {},
     "output_type": "execute_result"
    }
   ],
   "source": [
    "# low accyracy because my photos were difficult to classify\n",
    "(sum(np.array(actual)==np.array(predicted)))"
   ]
  },
  {
   "cell_type": "code",
   "execution_count": null,
   "id": "b3f5ef66",
   "metadata": {},
   "outputs": [],
   "source": []
  }
 ],
 "metadata": {
  "kernelspec": {
   "display_name": "Python 3 (ipykernel)",
   "language": "python",
   "name": "python3"
  },
  "language_info": {
   "codemirror_mode": {
    "name": "ipython",
    "version": 3
   },
   "file_extension": ".py",
   "mimetype": "text/x-python",
   "name": "python",
   "nbconvert_exporter": "python",
   "pygments_lexer": "ipython3",
   "version": "3.9.13"
  }
 },
 "nbformat": 4,
 "nbformat_minor": 5
}
